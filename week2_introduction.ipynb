{
 "cells": [
  {
   "cell_type": "markdown",
   "metadata": {},
   "source": [
    "## 1. Introduction\n",
    "\n",
    "\n",
    "In today's society, buying a house is an important investment channel. For most people, buying a house is the most important investment in life. How to buy a house at a reasonable price has become a problem that bothers people. When choosing a house, there are many considerations, not only the house type, location and other factors, but also the age of the house construction and the commercial facilities surrounding the house. This model hopes to find the most important characteristics of many factors that affect house prices through the analysis of the data, and also provide a reference price for each house. To help people make purchasing decisions;\n",
    "\n",
    "## 2. Business Problem\n",
    "\n",
    "1. When buying a house, there are many factors that need to be considered. We need to be able to find the factors that most affect the price of the house from many factors;\n",
    "\n",
    "2. A model needs to be built to predict the price of a house based on the input parameters;\n",
    "\n",
    "## 3. Interest\n",
    "\n",
    "There are three types of people interested in this model：\n",
    "\n",
    "1. Buyers: I hope to know the factors that affect house prices through the model, and also know whether the house they fancy is worth the money;\n",
    "\n",
    "2. Sellers: Hope to know the real price of their house and the advantages of the house through the model;\n",
    "\n",
    "3. Housing Intermediary staff: Hope to understand the customer's preferences through the model, and provide buyers and sellers with easier price suggestions;"
   ]
  },
  {
   "cell_type": "markdown",
   "metadata": {},
   "source": [
    "## 4. Data acquisition and clearning\n",
    "\n",
    "I‘m will use the Boston house dataset in kaggle datasets;\n",
    "\n",
    "Each record in the database describes a Boston suburb or town. The data was drawn from the Boston Standard Metropolitan Statistical Area (SMSA) in 1970. The attributes are deﬁned as follows (taken from the UCI Machine Learning Repository1): CRIM: per capita crime rate by town\n",
    "\n",
    "    CRIM: CRIM per capita crime rate by town \n",
    "    ZN: proportion of residential land zoned for lots over 25,000 sq.ft.\n",
    "    INDUS: proportion of non-retail business acres per town\n",
    "    CHAS: Charles River dummy variable (= 1 if tract bounds river; 0 otherwise)\n",
    "    NOX: nitric oxides concentration (parts per 10 million)1https://archive.ics.uci.edu/ml/datasets/Housing12320.2. Load the Dataset 124\n",
    "    RM: average number of rooms per dwelling\n",
    "    AGE: proportion of owner-occupied units built prior to 1940\n",
    "    DIS: weighted distances to ﬁve Boston employment centers\n",
    "    RAD: index of accessibility to radial highways\n",
    "    TAX: full-value property-tax rate per $10,000\n",
    "    PTRATIO: pupil-teacher ratio by town\n",
    "    B: 1000(Bk−0.63)2 where Bk is the proportion of blacks by town\n",
    "    LSTAT: % lower status of the population\n",
    "\n",
    "In sklearning, there is the same data set (load_boston), this data set contains 13 features and the number of records exceeds 500."
   ]
  },
  {
   "cell_type": "code",
   "execution_count": null,
   "metadata": {},
   "outputs": [],
   "source": []
  }
 ],
 "metadata": {
  "hide_input": false,
  "kernelspec": {
   "display_name": "Python 3.7.4 64-bit ('base': conda)",
   "language": "python",
   "name": "python37464bitbasecondabdd00315ec6f41a39f45cda168fdbe5e"
  },
  "language_info": {
   "codemirror_mode": {
    "name": "ipython",
    "version": 3
   },
   "file_extension": ".py",
   "mimetype": "text/x-python",
   "name": "python",
   "nbconvert_exporter": "python",
   "pygments_lexer": "ipython3",
   "version": "3.7.4"
  },
  "latex_envs": {
   "LaTeX_envs_menu_present": true,
   "autoclose": false,
   "autocomplete": true,
   "bibliofile": "biblio.bib",
   "cite_by": "apalike",
   "current_citInitial": 1,
   "eqLabelWithNumbers": true,
   "eqNumInitial": 1,
   "hotkeys": {
    "equation": "Ctrl-E",
    "itemize": "Ctrl-I"
   },
   "labels_anchors": false,
   "latex_user_defs": false,
   "report_style_numbering": false,
   "user_envs_cfg": false
  },
  "toc": {
   "base_numbering": 1,
   "nav_menu": {},
   "number_sections": true,
   "sideBar": true,
   "skip_h1_title": false,
   "title_cell": "Table of Contents",
   "title_sidebar": "Contents",
   "toc_cell": false,
   "toc_position": {},
   "toc_section_display": true,
   "toc_window_display": false
  },
  "varInspector": {
   "cols": {
    "lenName": 16,
    "lenType": 16,
    "lenVar": 40
   },
   "kernels_config": {
    "python": {
     "delete_cmd_postfix": "",
     "delete_cmd_prefix": "del ",
     "library": "var_list.py",
     "varRefreshCmd": "print(var_dic_list())"
    },
    "r": {
     "delete_cmd_postfix": ") ",
     "delete_cmd_prefix": "rm(",
     "library": "var_list.r",
     "varRefreshCmd": "cat(var_dic_list()) "
    }
   },
   "types_to_exclude": [
    "module",
    "function",
    "builtin_function_or_method",
    "instance",
    "_Feature"
   ],
   "window_display": false
  }
 },
 "nbformat": 4,
 "nbformat_minor": 2
}
